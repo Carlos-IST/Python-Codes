{
 "cells": [
  {
   "cell_type": "markdown",
   "metadata": {},
   "source": [
    "# Matrix - Numpy\n",
    "\n",
    "#### by Carlos Santillán\n"
   ]
  },
  {
   "cell_type": "code",
   "execution_count": 2,
   "metadata": {},
   "outputs": [],
   "source": [
    "import numpy as np\n",
    "import pandas as pd"
   ]
  },
  {
   "cell_type": "markdown",
   "metadata": {},
   "source": [
    "We can cast a list with numpy:"
   ]
  },
  {
   "cell_type": "code",
   "execution_count": 7,
   "metadata": {},
   "outputs": [
    {
     "data": {
      "text/plain": [
       "array([1, 2, 3])"
      ]
     },
     "execution_count": 7,
     "metadata": {},
     "output_type": "execute_result"
    }
   ],
   "source": [
    "list = [1, 2, 3]\n",
    "c = np.asarray(list)\n",
    "c"
   ]
  },
  {
   "cell_type": "markdown",
   "metadata": {},
   "source": [
    "We can create an ndarray in the needed size filled with ones, zeros or random values:"
   ]
  },
  {
   "cell_type": "code",
   "execution_count": 8,
   "metadata": {},
   "outputs": [
    {
     "data": {
      "text/plain": [
       "array([1, 2, 3])"
      ]
     },
     "execution_count": 8,
     "metadata": {},
     "output_type": "execute_result"
    }
   ],
   "source": [
    "c = np.array(list)\n",
    "c"
   ]
  },
  {
   "cell_type": "code",
   "execution_count": 11,
   "metadata": {},
   "outputs": [
    {
     "data": {
      "text/plain": [
       "array([[1.13241972e-311, 1.89145368e-307],\n",
       "       [6.89796323e-307, 4.45042952e-307]])"
      ]
     },
     "execution_count": 11,
     "metadata": {},
     "output_type": "execute_result"
    }
   ],
   "source": [
    "shape = (2, 2)\n",
    "c = np.empty(shape)\n",
    "c"
   ]
  },
  {
   "cell_type": "code",
   "execution_count": 13,
   "metadata": {},
   "outputs": [
    {
     "data": {
      "text/plain": [
       "array([[1., 1.],\n",
       "       [1., 1.]])"
      ]
     },
     "execution_count": 13,
     "metadata": {},
     "output_type": "execute_result"
    }
   ],
   "source": [
    "d = np.ones(shape)\n",
    "d"
   ]
  },
  {
   "cell_type": "code",
   "execution_count": 15,
   "metadata": {},
   "outputs": [
    {
     "data": {
      "text/plain": [
       "array([[0., 0.],\n",
       "       [0., 0.]])"
      ]
     },
     "execution_count": 15,
     "metadata": {},
     "output_type": "execute_result"
    }
   ],
   "source": [
    "e = np.zeros(shape)\n",
    "e"
   ]
  },
  {
   "cell_type": "markdown",
   "metadata": {},
   "source": [
    "We can create an array in the shape of another array:"
   ]
  },
  {
   "cell_type": "code",
   "execution_count": 16,
   "metadata": {},
   "outputs": [
    {
     "data": {
      "text/plain": [
       "array([[1, 2],\n",
       "       [1, 2]])"
      ]
     },
     "execution_count": 16,
     "metadata": {},
     "output_type": "execute_result"
    }
   ],
   "source": [
    "c = np.array([[1, 2], [1, 2]])\n",
    "c"
   ]
  },
  {
   "cell_type": "code",
   "execution_count": 18,
   "metadata": {},
   "outputs": [
    {
     "data": {
      "text/plain": [
       "array([[-1436889632,         533],\n",
       "       [          0,           0]])"
      ]
     },
     "execution_count": 18,
     "metadata": {},
     "output_type": "execute_result"
    }
   ],
   "source": [
    "d = np.empty_like(c)\n",
    "d"
   ]
  },
  {
   "cell_type": "markdown",
   "metadata": {},
   "source": [
    "Sometimes we just need to select only a part of the columns or rows in a 2d matrix:"
   ]
  },
  {
   "cell_type": "code",
   "execution_count": 19,
   "metadata": {},
   "outputs": [
    {
     "data": {
      "text/plain": [
       "array([[1, 1, 2, 3, 4],\n",
       "       [2, 6, 7, 8, 9],\n",
       "       [3, 6, 7, 8, 9],\n",
       "       [4, 6, 7, 8, 9],\n",
       "       [5, 6, 7, 8, 9]])"
      ]
     },
     "execution_count": 19,
     "metadata": {},
     "output_type": "execute_result"
    }
   ],
   "source": [
    "a = np.asarray([[1, 1, 2, 3, 4],     ### 1st row\n",
    "                [2, 6, 7, 8, 9],     ### 2nd row\n",
    "                [3, 6, 7, 8, 9],     ### 3rd row\n",
    "                [4, 6, 7, 8, 9],     ### 4th row\n",
    "                [5, 6, 7, 8, 9]      ### 5th row\n",
    "               ])\n",
    "\n",
    "a"
   ]
  },
  {
   "cell_type": "code",
   "execution_count": 20,
   "metadata": {},
   "outputs": [
    {
     "data": {
      "text/plain": [
       "array([[1, 1],\n",
       "       [1, 1]])"
      ]
     },
     "execution_count": 20,
     "metadata": {},
     "output_type": "execute_result"
    }
   ],
   "source": [
    "b = np.asarray([[1, 1], \n",
    "                [1, 1]])\n",
    "\n",
    "b"
   ]
  },
  {
   "cell_type": "markdown",
   "metadata": {},
   "source": [
    "SO now, we select the row in the format 'a[start:end]'\n",
    "\n",
    "If start or end are omitted, then it means we select all range:"
   ]
  },
  {
   "cell_type": "code",
   "execution_count": 21,
   "metadata": {},
   "outputs": [
    {
     "data": {
      "text/plain": [
       "array([[1, 1, 2, 3, 4]])"
      ]
     },
     "execution_count": 21,
     "metadata": {},
     "output_type": "execute_result"
    }
   ],
   "source": [
    "y = a[:1]     ### 1st row\n",
    "y"
   ]
  },
  {
   "cell_type": "code",
   "execution_count": 22,
   "metadata": {},
   "outputs": [
    {
     "data": {
      "text/plain": [
       "array([[1, 1, 2, 3, 4]])"
      ]
     },
     "execution_count": 22,
     "metadata": {},
     "output_type": "execute_result"
    }
   ],
   "source": [
    "y = a[0:1]    ### 1st row\n",
    "y"
   ]
  },
  {
   "cell_type": "code",
   "execution_count": 25,
   "metadata": {},
   "outputs": [
    {
     "data": {
      "text/plain": [
       "array([[3, 6, 7, 8, 9],\n",
       "       [4, 6, 7, 8, 9],\n",
       "       [5, 6, 7, 8, 9]])"
      ]
     },
     "execution_count": 25,
     "metadata": {},
     "output_type": "execute_result"
    }
   ],
   "source": [
    "y = a[2:5]    ### rows from 3rd to 5th\n",
    "y"
   ]
  },
  {
   "cell_type": "markdown",
   "metadata": {},
   "source": [
    "Notice that with this, we´re moving along the number of rows.\n",
    "\n",
    "We can select a column in the format 'a[start:end, column_number]'"
   ]
  },
  {
   "cell_type": "code",
   "execution_count": 27,
   "metadata": {},
   "outputs": [
    {
     "data": {
      "text/plain": [
       "array([4, 9, 9, 9, 9])"
      ]
     },
     "execution_count": 27,
     "metadata": {},
     "output_type": "execute_result"
    }
   ],
   "source": [
    "x = a[:, -1]    ### -1 means 1st from the end\n",
    "x"
   ]
  },
  {
   "cell_type": "code",
   "execution_count": 28,
   "metadata": {},
   "outputs": [
    {
     "data": {
      "text/plain": [
       "array([[1, 2],\n",
       "       [6, 7],\n",
       "       [6, 7],\n",
       "       [6, 7],\n",
       "       [6, 7]])"
      ]
     },
     "execution_count": 28,
     "metadata": {},
     "output_type": "execute_result"
    }
   ],
   "source": [
    "x = a[:, 1:3]   ### columns from 2nd to 3rd\n",
    "x"
   ]
  },
  {
   "cell_type": "markdown",
   "metadata": {},
   "source": [
    "## 2. Merge arrays"
   ]
  },
  {
   "cell_type": "markdown",
   "metadata": {},
   "source": [
    "Merging Numpy arrays is not recommended because internally, Numpy will create an empty big array and the copy the contents into it.\n",
    "\n",
    "It would be best to create the intended size at the beginning and then just fill it up. \n",
    "\n",
    "However, sometimes you cannot avoid merging. In this case, Numpy has some built in functions:"
   ]
  },
  {
   "cell_type": "markdown",
   "metadata": {},
   "source": [
    "**Concatenate**\n",
    "\n",
    "1d arrays:"
   ]
  },
  {
   "cell_type": "code",
   "execution_count": 44,
   "metadata": {},
   "outputs": [
    {
     "name": "stdout",
     "output_type": "stream",
     "text": [
      "[1 2 3 5 6 5 6]\n"
     ]
    }
   ],
   "source": [
    "a = np.array([1, 2, 3])\n",
    "b = np.array([5, 6])\n",
    "\n",
    "print(np.concatenate([a, b, b]))"
   ]
  },
  {
   "cell_type": "markdown",
   "metadata": {},
   "source": [
    "2d arrays:"
   ]
  },
  {
   "cell_type": "code",
   "execution_count": 50,
   "metadata": {},
   "outputs": [
    {
     "name": "stdout",
     "output_type": "stream",
     "text": [
      "[[1 2]\n",
      " [3 4]\n",
      " [5 6]]\n",
      "[[1 2 5]\n",
      " [3 4 6]]\n"
     ]
    }
   ],
   "source": [
    "a2 = np.array([[1, 2], [3, 4]])\n",
    "\n",
    "a2\n",
    "\n",
    "### if axis = 0, we concatenate along rows\n",
    "print(np.append(a2, b[None, :], axis = 0))\n",
    "\n",
    "### if axis = 1, we concatenate along columns\n",
    "print(np.append(a2, b[:, None], axis = 1))"
   ]
  },
  {
   "cell_type": "markdown",
   "metadata": {},
   "source": [
    "Hstack and vstack:"
   ]
  },
  {
   "cell_type": "code",
   "execution_count": 51,
   "metadata": {},
   "outputs": [
    {
     "name": "stdout",
     "output_type": "stream",
     "text": [
      "[1 2 3 5 6]\n"
     ]
    }
   ],
   "source": [
    "print(np.hstack([a, b]))"
   ]
  },
  {
   "cell_type": "code",
   "execution_count": 52,
   "metadata": {},
   "outputs": [
    {
     "name": "stdout",
     "output_type": "stream",
     "text": [
      "[[1 2 3]\n",
      " [1 2 3]]\n"
     ]
    }
   ],
   "source": [
    "print(np.vstack([a, a]))"
   ]
  },
  {
   "cell_type": "markdown",
   "metadata": {},
   "source": [
    "2d arrays:"
   ]
  },
  {
   "cell_type": "code",
   "execution_count": 54,
   "metadata": {},
   "outputs": [
    {
     "name": "stdout",
     "output_type": "stream",
     "text": [
      "[[1 2 1 2]\n",
      " [3 4 3 4]]\n"
     ]
    }
   ],
   "source": [
    "print(np.hstack([a2, a2]))"
   ]
  },
  {
   "cell_type": "code",
   "execution_count": 55,
   "metadata": {},
   "outputs": [
    {
     "name": "stdout",
     "output_type": "stream",
     "text": [
      "[[1 2]\n",
      " [3 4]\n",
      " [5 6]]\n"
     ]
    }
   ],
   "source": [
    "print(np.vstack([a2, b]))"
   ]
  },
  {
   "cell_type": "markdown",
   "metadata": {},
   "source": [
    "String arrays:"
   ]
  },
  {
   "cell_type": "code",
   "execution_count": 57,
   "metadata": {},
   "outputs": [
    {
     "name": "stdout",
     "output_type": "stream",
     "text": [
      "[[b'abc' b'abc' b'abc']\n",
      " [b'abc' b'abc' b'abc']\n",
      " [b'abc' b'abc' b'abc']]\n"
     ]
    }
   ],
   "source": [
    "chararray = np.chararray([3, 3], itemsize = 3)\n",
    "\n",
    "chararray[:] = 'abc'     ### pass value to all entries\n",
    "\n",
    "print(chararray)"
   ]
  },
  {
   "cell_type": "markdown",
   "metadata": {},
   "source": [
    "## 3. Read/write to a file"
   ]
  },
  {
   "cell_type": "code",
   "execution_count": 58,
   "metadata": {},
   "outputs": [
    {
     "data": {
      "text/plain": [
       "array([[1, 2, 1, 2, 1, 2, 1, 2, 1, 2, 1, 2, 1, 2, 1],\n",
       "       [1, 2, 1, 2, 1, 2, 1, 2, 1, 2, 1, 2, 1, 2, 1],\n",
       "       [1, 2, 1, 2, 1, 2, 1, 2, 1, 2, 1, 2, 1, 2, 1],\n",
       "       [1, 2, 1, 2, 1, 2, 1, 2, 1, 2, 1, 2, 1, 2, 1],\n",
       "       [1, 2, 1, 2, 1, 2, 1, 2, 1, 2, 1, 2, 1, 2, 1],\n",
       "       [1, 2, 1, 2, 1, 2, 1, 2, 1, 2, 1, 2, 1, 2, 1]])"
      ]
     },
     "execution_count": 58,
     "metadata": {},
     "output_type": "execute_result"
    }
   ],
   "source": [
    "a2 = np.array([\n",
    "    [1, 2, 1, 2, 1, 2, 1, 2, 1, 2, 1, 2, 1, 2, 1],\n",
    "    [1, 2, 1, 2, 1, 2, 1, 2, 1, 2, 1, 2, 1, 2, 1],\n",
    "    [1, 2, 1, 2, 1, 2, 1, 2, 1, 2, 1, 2, 1, 2, 1],\n",
    "    [1, 2, 1, 2, 1, 2, 1, 2, 1, 2, 1, 2, 1, 2, 1],\n",
    "    [1, 2, 1, 2, 1, 2, 1, 2, 1, 2, 1, 2, 1, 2, 1],\n",
    "    [1, 2, 1, 2, 1, 2, 1, 2, 1, 2, 1, 2, 1, 2, 1]\n",
    "])\n",
    "\n",
    "a2"
   ]
  },
  {
   "cell_type": "code",
   "execution_count": 59,
   "metadata": {},
   "outputs": [],
   "source": [
    "np.savetxt('test.txt', a2, delimiter = \",\")"
   ]
  },
  {
   "cell_type": "markdown",
   "metadata": {},
   "source": [
    "And we can read with 'np.loadtext()'"
   ]
  },
  {
   "cell_type": "markdown",
   "metadata": {},
   "source": [
    "## 4. Sparse Matrices"
   ]
  },
  {
   "cell_type": "markdown",
   "metadata": {},
   "source": [
    "In Machine Learning we can have large sparse matrices (where lots of its values are 0). \n",
    "\n",
    "Reading and writing this matrices is faster and the file is smaller if we use the svmlight fornat:"
   ]
  },
  {
   "cell_type": "code",
   "execution_count": 60,
   "metadata": {},
   "outputs": [],
   "source": [
    "from sklearn.datasets import dump_svmlight_file, load_svmlight_file\n",
    "\n",
    "matrix = [\n",
    "    [1, 0, 0, 0, 0, 0, 0, 0, 0, 0, 0, 0, 0, 1, 2],\n",
    "    [1, 0, 0, 0, 0, 0, 0, 0, 0, 0, 0, 0, 0, 1, 2],\n",
    "    [1, 0, 0, 0, 0, 0, 0, 0, 0, 0, 0, 0, 0, 1, 2],\n",
    "    [1, 0, 0, 0, 0, 0, 0, 0, 0, 0, 0, 0, 0, 1, 2],\n",
    "    [1, 0, 0, 0, 0, 0, 0, 0, 0, 0, 0, 0, 0, 1, 2],\n",
    "    [1, 0, 0, 0, 0, 3, 0, 0, 0, 0, 0, 0, 0, 1, 2],\n",
    "    [1, 0, 0, 0, 0, 3, 0, 0, 0, 0, 0, 0, 0, 1, 2]\n",
    "]\n",
    "\n",
    "labels = [1,1,1,1,1,2,2]"
   ]
  },
  {
   "cell_type": "code",
   "execution_count": 61,
   "metadata": {},
   "outputs": [],
   "source": [
    "dump_svmlight_file(matrix, labels, 'svmlight.txt', zero_based = True)\n"
   ]
  },
  {
   "cell_type": "code",
   "execution_count": 62,
   "metadata": {},
   "outputs": [],
   "source": [
    "svm_loaded = load_svmlight_file('svmlight.txt', zero_based = True)"
   ]
  },
  {
   "cell_type": "code",
   "execution_count": 63,
   "metadata": {},
   "outputs": [
    {
     "data": {
      "text/plain": [
       "(<7x15 sparse matrix of type '<class 'numpy.float64'>'\n",
       " \twith 23 stored elements in Compressed Sparse Row format>,\n",
       " array([1., 1., 1., 1., 1., 2., 2.]))"
      ]
     },
     "execution_count": 63,
     "metadata": {},
     "output_type": "execute_result"
    }
   ],
   "source": [
    "svm_loaded"
   ]
  },
  {
   "cell_type": "markdown",
   "metadata": {},
   "source": [
    "We can use 'toarray()' to get the matrix back from the svmlight compressed form:"
   ]
  },
  {
   "cell_type": "code",
   "execution_count": 67,
   "metadata": {},
   "outputs": [
    {
     "data": {
      "text/plain": [
       "array([[1., 0., 0., 0., 0., 0., 0., 0., 0., 0., 0., 0., 0., 1., 2.],\n",
       "       [1., 0., 0., 0., 0., 0., 0., 0., 0., 0., 0., 0., 0., 1., 2.],\n",
       "       [1., 0., 0., 0., 0., 0., 0., 0., 0., 0., 0., 0., 0., 1., 2.],\n",
       "       [1., 0., 0., 0., 0., 0., 0., 0., 0., 0., 0., 0., 0., 1., 2.],\n",
       "       [1., 0., 0., 0., 0., 0., 0., 0., 0., 0., 0., 0., 0., 1., 2.],\n",
       "       [1., 0., 0., 0., 0., 3., 0., 0., 0., 0., 0., 0., 0., 1., 2.],\n",
       "       [1., 0., 0., 0., 0., 3., 0., 0., 0., 0., 0., 0., 0., 1., 2.]])"
      ]
     },
     "execution_count": 67,
     "metadata": {},
     "output_type": "execute_result"
    }
   ],
   "source": [
    "svm_loaded[0].toarray()     ### matrix element at index 0\n"
   ]
  },
  {
   "cell_type": "code",
   "execution_count": 66,
   "metadata": {},
   "outputs": [
    {
     "data": {
      "text/plain": [
       "array([1., 1., 1., 1., 1., 2., 2.])"
      ]
     },
     "execution_count": 66,
     "metadata": {},
     "output_type": "execute_result"
    }
   ],
   "source": [
    "svm_loaded[1]               ### labels at index 1"
   ]
  },
  {
   "cell_type": "markdown",
   "metadata": {},
   "source": [
    "# Part II - a bit of Theory"
   ]
  },
  {
   "cell_type": "markdown",
   "metadata": {},
   "source": [
    "If $A \\in R^{n, m}$ we say that $A$ is a matrix with $n$ rows and $m$ columns"
   ]
  },
  {
   "cell_type": "markdown",
   "metadata": {},
   "source": [
    "### 1. Python Matrix\n",
    "\n",
    "Python doesn´t have a built-in type for matrices, however, we can treat a list of lists as a matrix. For example:"
   ]
  },
  {
   "cell_type": "code",
   "execution_count": 68,
   "metadata": {},
   "outputs": [
    {
     "data": {
      "text/plain": [
       "[[1, 4, 5], [-5, 8, 9]]"
      ]
     },
     "execution_count": 68,
     "metadata": {},
     "output_type": "execute_result"
    }
   ],
   "source": [
    "A = [[1, 4, 5], \n",
    "     [-5, 8, 9]]\n",
    "\n",
    "A"
   ]
  },
  {
   "cell_type": "markdown",
   "metadata": {},
   "source": [
    "Let´s see how to work with a nested list:"
   ]
  },
  {
   "cell_type": "code",
   "execution_count": 73,
   "metadata": {},
   "outputs": [
    {
     "name": "stdout",
     "output_type": "stream",
     "text": [
      "A =  [[1, 4, 5, 12], [-5, 8, 9, 0], [-6, 7, 11, 19]]\n",
      "A[1] =  [-5, 8, 9, 0]\n",
      "A[1][2] =  9\n",
      "A[0][-1] =  12\n",
      "3rd column =  [5, 9, 11]\n"
     ]
    }
   ],
   "source": [
    "A = [[1, 4, 5, 12], \n",
    "    [-5, 8, 9, 0],\n",
    "    [-6, 7, 11, 19]]\n",
    "\n",
    "print(\"A = \", A)\n",
    "print(\"A[1] = \", A[1])            ### 2nd row\n",
    "print(\"A[1][2] = \", A[1][2])      ### 3rd elem. of 2nd row\n",
    "print(\"A[0][-1] = \", A[0][-1])    ### last elem. of 1st row\n",
    "\n",
    "column = []     ### empty list\n",
    "for row in A:\n",
    "    column.append(row[2])\n",
    "    \n",
    "print(\"3rd column = \", column)"
   ]
  },
  {
   "cell_type": "markdown",
   "metadata": {},
   "source": [
    "Using nested lists as a matrix works for simple computational tasks, however, there is a better way of working with matrices in Python by using the Numpy package."
   ]
  },
  {
   "cell_type": "markdown",
   "metadata": {},
   "source": [
    "### 2. Numpy Array\n",
    "\n",
    "Numpy is a package for scientific computing which has support of a powerful n-dimensional array object."
   ]
  },
  {
   "cell_type": "code",
   "execution_count": 74,
   "metadata": {},
   "outputs": [
    {
     "name": "stdout",
     "output_type": "stream",
     "text": [
      "[1 2 3]\n",
      "<class 'numpy.ndarray'>\n"
     ]
    }
   ],
   "source": [
    "a = np.array([1, 2, 3])\n",
    "print(a)\n",
    "print(type(a))"
   ]
  },
  {
   "cell_type": "markdown",
   "metadata": {},
   "source": [
    "As you can see, Numpy has a class called *ndarray*"
   ]
  },
  {
   "cell_type": "markdown",
   "metadata": {},
   "source": [
    "### 3. How to create a Numpy Array?\n",
    "\n",
    "There are several ways:"
   ]
  },
  {
   "cell_type": "markdown",
   "metadata": {},
   "source": [
    "**1. Integers, floats and complex numbers**"
   ]
  },
  {
   "cell_type": "code",
   "execution_count": 75,
   "metadata": {},
   "outputs": [
    {
     "data": {
      "text/plain": [
       "array([[1, 2, 3],\n",
       "       [3, 4, 5]])"
      ]
     },
     "execution_count": 75,
     "metadata": {},
     "output_type": "execute_result"
    }
   ],
   "source": [
    "A = np.array([[1, 2, 3], \n",
    "              [3, 4, 5]])\n",
    "\n",
    "A"
   ]
  },
  {
   "cell_type": "code",
   "execution_count": 76,
   "metadata": {},
   "outputs": [
    {
     "data": {
      "text/plain": [
       "array([[1.1, 2. , 3. ],\n",
       "       [3. , 4. , 5. ]])"
      ]
     },
     "execution_count": 76,
     "metadata": {},
     "output_type": "execute_result"
    }
   ],
   "source": [
    "A = np.array([[1.1, 2, 3], \n",
    "              [3, 4, 5]])\n",
    "\n",
    "A"
   ]
  },
  {
   "cell_type": "code",
   "execution_count": 78,
   "metadata": {},
   "outputs": [
    {
     "data": {
      "text/plain": [
       "array([[1.+0.j, 2.+0.j, 3.+0.j],\n",
       "       [3.+0.j, 4.+0.j, 5.+0.j]])"
      ]
     },
     "execution_count": 78,
     "metadata": {},
     "output_type": "execute_result"
    }
   ],
   "source": [
    "A = np.array([[1, 2, 3], \n",
    "              [3, 4, 5]], \n",
    "              dtype = complex)\n",
    "\n",
    "A"
   ]
  },
  {
   "cell_type": "markdown",
   "metadata": {},
   "source": [
    "**2. Zeros and ones**"
   ]
  },
  {
   "cell_type": "code",
   "execution_count": 79,
   "metadata": {},
   "outputs": [
    {
     "name": "stdout",
     "output_type": "stream",
     "text": [
      "[[0. 0. 0.]\n",
      " [0. 0. 0.]]\n"
     ]
    }
   ],
   "source": [
    "zeros_array = np.zeros( (2, 3) )\n",
    "print(zeros_array)"
   ]
  },
  {
   "cell_type": "code",
   "execution_count": 80,
   "metadata": {},
   "outputs": [
    {
     "name": "stdout",
     "output_type": "stream",
     "text": [
      "[[1 1 1 1 1]]\n"
     ]
    }
   ],
   "source": [
    "ones_array = np.ones( (1, 5), dtype = np.int32 )\n",
    "print(ones_array)"
   ]
  },
  {
   "cell_type": "markdown",
   "metadata": {},
   "source": [
    "Here we specified *dtype* as 32 bits (or 4 bytes). Hence this array can take values from $-2^{-31}$ to $2^{-31} - 1$"
   ]
  },
  {
   "cell_type": "markdown",
   "metadata": {},
   "source": [
    "**3. Using arange() and shape()**"
   ]
  },
  {
   "cell_type": "code",
   "execution_count": 81,
   "metadata": {},
   "outputs": [
    {
     "name": "stdout",
     "output_type": "stream",
     "text": [
      "A =  [0 1 2 3]\n"
     ]
    }
   ],
   "source": [
    "A = np.arange(4)\n",
    "print('A = ', A)"
   ]
  },
  {
   "cell_type": "code",
   "execution_count": 82,
   "metadata": {},
   "outputs": [
    {
     "name": "stdout",
     "output_type": "stream",
     "text": [
      "B =  [[ 0  1  2  3  4  5]\n",
      " [ 6  7  8  9 10 11]]\n"
     ]
    }
   ],
   "source": [
    "B = np.arange(12).reshape(2, 6)\n",
    "print(\"B = \", B)"
   ]
  },
  {
   "cell_type": "markdown",
   "metadata": {},
   "source": [
    "### 4. Matrix Operations"
   ]
  },
  {
   "cell_type": "code",
   "execution_count": 83,
   "metadata": {},
   "outputs": [
    {
     "name": "stdout",
     "output_type": "stream",
     "text": [
      "[[11  1]\n",
      " [ 8  0]]\n"
     ]
    }
   ],
   "source": [
    "A = np.array([[2, 4], \n",
    "              [5, -6]])\n",
    "\n",
    "B = np.array([[9, -3], \n",
    "              [3, 6]])\n",
    "\n",
    "C = A + B\n",
    "print(C)"
   ]
  },
  {
   "cell_type": "code",
   "execution_count": 85,
   "metadata": {},
   "outputs": [
    {
     "name": "stdout",
     "output_type": "stream",
     "text": [
      "[[ 18 -12]\n",
      " [ 15 -36]]\n"
     ]
    }
   ],
   "source": [
    "D = A * B\n",
    "print(D)"
   ]
  },
  {
   "cell_type": "markdown",
   "metadata": {},
   "source": [
    "Notice this method resulted in the element-wise multiplication, let´s see how to perform actual matrix multiplication:"
   ]
  },
  {
   "cell_type": "code",
   "execution_count": 87,
   "metadata": {},
   "outputs": [
    {
     "name": "stdout",
     "output_type": "stream",
     "text": [
      "[[ 36 -12]\n",
      " [ -1   2]]\n"
     ]
    }
   ],
   "source": [
    "A = np.array([[3, 6, 7], \n",
    "              [5, -3, 0]])\n",
    "\n",
    "B = np.array([[1, 1], \n",
    "              [2, 1], \n",
    "              [3, -3]])\n",
    "\n",
    "C = A.dot(B)\n",
    "\n",
    "print(C)"
   ]
  },
  {
   "cell_type": "code",
   "execution_count": 88,
   "metadata": {},
   "outputs": [
    {
     "name": "stdout",
     "output_type": "stream",
     "text": [
      "[[ 1  2  3]\n",
      " [ 1  1 -3]]\n"
     ]
    }
   ],
   "source": [
    "A = np.array([[1, 1], \n",
    "              [2, 1], \n",
    "              [3, -3]])\n",
    "\n",
    "AT = A.transpose()\n",
    "\n",
    "print(AT)"
   ]
  },
  {
   "cell_type": "markdown",
   "metadata": {},
   "source": [
    "### 5. Access Matrix elements, rows & columns"
   ]
  },
  {
   "cell_type": "code",
   "execution_count": 89,
   "metadata": {},
   "outputs": [
    {
     "name": "stdout",
     "output_type": "stream",
     "text": [
      "A[0] =  2\n",
      "A[2] =  6\n",
      "A[-1] =  10\n"
     ]
    }
   ],
   "source": [
    "A = np.array([2, 4, 6, 8, 10])\n",
    "\n",
    "print(\"A[0] = \", A[0])     ### 1st element\n",
    "print(\"A[2] = \", A[2])     ### 3rd element\n",
    "print(\"A[-1] = \", A[-1])   ### last element"
   ]
  },
  {
   "cell_type": "markdown",
   "metadata": {},
   "source": [
    "Now let´s see how to access elements of a 2d array (which is basically a matrix):"
   ]
  },
  {
   "cell_type": "code",
   "execution_count": 90,
   "metadata": {},
   "outputs": [
    {
     "name": "stdout",
     "output_type": "stream",
     "text": [
      "A[0][0] =  1\n",
      "A[1][2] =  9\n",
      "A[-1][-1] =  19\n"
     ]
    }
   ],
   "source": [
    "A = np.array([[1, 4, 5, 12],\n",
    "              [-5, 8, 9, 0],\n",
    "              [-6, 7, 11, 19]])\n",
    "\n",
    "print(\"A[0][0] = \", A[0][0])     ### 1st element of 1st row\n",
    "\n",
    "print(\"A[1][2] = \", A[1][2])     ### 3rd element 2nd row\n",
    "\n",
    "print(\"A[-1][-1] = \", A[-1][-1]) ### last element of last row"
   ]
  },
  {
   "cell_type": "markdown",
   "metadata": {},
   "source": [
    "**Access Rows of a matrix**"
   ]
  },
  {
   "cell_type": "code",
   "execution_count": 91,
   "metadata": {},
   "outputs": [
    {
     "name": "stdout",
     "output_type": "stream",
     "text": [
      "A[0] =  [ 1  4  5 12]\n",
      "A[2] =  [-6  7 11 19]\n",
      "A[-1] =  [-6  7 11 19]\n"
     ]
    }
   ],
   "source": [
    "print(\"A[0] = \", A[0])     ### 1st row\n",
    "print(\"A[2] = \", A[2])     ### 3rd row\n",
    "print(\"A[-1] = \", A[-1])   ### last row"
   ]
  },
  {
   "cell_type": "markdown",
   "metadata": {},
   "source": [
    "**Access Columns of a matrix**"
   ]
  },
  {
   "cell_type": "code",
   "execution_count": 92,
   "metadata": {},
   "outputs": [
    {
     "name": "stdout",
     "output_type": "stream",
     "text": [
      "A[:, 0] =  [ 1 -5 -6]\n",
      "A[:, 3] =  [12  0 19]\n",
      "A[:, -1] =  [12  0 19]\n"
     ]
    }
   ],
   "source": [
    "print(\"A[:, 0] = \", A[:, 0])      ### 1st column\n",
    "print(\"A[:, 3] = \", A[:, 3])      ### 4th column\n",
    "print(\"A[:, -1] = \", A[:, -1])    ### last column"
   ]
  },
  {
   "cell_type": "markdown",
   "metadata": {},
   "source": [
    "### 6. Slicing of a Matrix"
   ]
  },
  {
   "cell_type": "code",
   "execution_count": 95,
   "metadata": {},
   "outputs": [
    {
     "name": "stdout",
     "output_type": "stream",
     "text": [
      "3rd to 5th elements:\n",
      "[5 7 9]\n",
      "\n",
      "\n",
      "5th from the right to the 1st\n",
      "[1 3]\n",
      "\n",
      "\n",
      "6th to last element\n",
      "[7 5]\n",
      "\n",
      "\n",
      "all elements\n",
      "[1 3 5 7 9 7 5]\n",
      "\n",
      "\n",
      "reversed array\n",
      "[5 7 9 7 5 3 1]\n"
     ]
    }
   ],
   "source": [
    "letters = np.array([1, 3, 5, 7, 9, 7, 5])\n",
    "\n",
    "print(\"3rd to 5th elements:\")\n",
    "print(letters[2:5])\n",
    "print(\"\\n\")\n",
    "\n",
    "print(\"5th from the right to the 1st\")\n",
    "print(letters[: -5])\n",
    "print(\"\\n\")\n",
    "\n",
    "print(\"6th to last element\")\n",
    "print(letters[5: ])\n",
    "print(\"\\n\")\n",
    "\n",
    "print(\"all elements\")\n",
    "print(letters[:])\n",
    "print(\"\\n\")\n",
    "\n",
    "print(\"reversed array\")\n",
    "print(letters[::-1])\n"
   ]
  },
  {
   "cell_type": "markdown",
   "metadata": {},
   "source": [
    "Now let´s see how to slice a matrix:\n",
    "\n",
    "Remember that Python has [, ) intervals"
   ]
  },
  {
   "cell_type": "code",
   "execution_count": 107,
   "metadata": {},
   "outputs": [
    {
     "name": "stdout",
     "output_type": "stream",
     "text": [
      "Original matrix\n",
      "[[ 1  4  5 12 14]\n",
      " [-5  8  9  0 17]\n",
      " [-6  7 11 19 21]]\n",
      "\n",
      "\n",
      "2 rows, 4 columns\n",
      "[[ 1  4  5 12]\n",
      " [-5  8  9  0]]\n",
      "\n",
      "\n",
      "1st row, all columns\n",
      "[[ 1  4  5 12 14]]\n",
      "\n",
      "\n",
      "all rows, 2nd column\n",
      "[4 8 7]\n",
      "\n",
      "\n",
      "all rows, 3rd to 5th columns\n",
      "[[ 5 12 14]\n",
      " [ 9  0 17]\n",
      " [11 19 21]]\n"
     ]
    }
   ],
   "source": [
    "A = np.array([[1, 4, 5, 12, 14], \n",
    "    [-5, 8, 9, 0, 17],\n",
    "    [-6, 7, 11, 19, 21]])\n",
    "\n",
    "print(\"Original matrix\")\n",
    "print(A)\n",
    "print(\"\\n\")\n",
    "\n",
    "print(\"2 rows, 4 columns\")\n",
    "print(A[:2, :4])\n",
    "print(\"\\n\")\n",
    "\n",
    "print(\"1st row, all columns\")\n",
    "print(A[:1, ])\n",
    "print(\"\\n\")\n",
    "\n",
    "print(\"all rows, 2nd column\")\n",
    "print(A[:, 1])\n",
    "print(\"\\n\")\n",
    "\n",
    "print(\"all rows, 3rd to 5th columns\")\n",
    "print(A[:, 2:5])"
   ]
  }
 ],
 "metadata": {
  "kernelspec": {
   "display_name": "Python 3",
   "language": "python",
   "name": "python3"
  },
  "language_info": {
   "codemirror_mode": {
    "name": "ipython",
    "version": 3
   },
   "file_extension": ".py",
   "mimetype": "text/x-python",
   "name": "python",
   "nbconvert_exporter": "python",
   "pygments_lexer": "ipython3",
   "version": "3.7.3"
  }
 },
 "nbformat": 4,
 "nbformat_minor": 2
}
